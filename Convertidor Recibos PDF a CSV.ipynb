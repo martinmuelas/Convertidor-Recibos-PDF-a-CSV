{
 "cells": [
  {
   "cell_type": "markdown",
   "metadata": {},
   "source": [
    "# Convertidor Recibos PDF a CSV"
   ]
  },
  {
   "cell_type": "markdown",
   "metadata": {},
   "source": [
    "Este script extrae las tablas de los recibos de haberes de TASA ubicados en la carpeta `.\\Recibos`, los unifica y lo exporta en formato CSV."
   ]
  },
  {
   "cell_type": "markdown",
   "metadata": {},
   "source": [
    "Los archivos deben nombrarse con el formato `Recibo AAAA-MM.pdf`."
   ]
  },
  {
   "cell_type": "markdown",
   "metadata": {},
   "source": [
    "### Extracción de datos con Tabula-Py"
   ]
  },
  {
   "cell_type": "code",
   "execution_count": null,
   "metadata": {},
   "outputs": [],
   "source": [
    "import pandas as pd\n",
    "import tabula\n",
    "import re\n",
    "from glob import glob\n",
    "\n",
    "\n",
    "def to_num(column):\n",
    "    \"\"\" Convierte el formato de las columnas para poder convertirlas a tipo numérico \"\"\"\n",
    "    column = str(column)\n",
    "    column = re.sub('(\\d*.\\d*,\\d{2})-','-\\\\1', column)\n",
    "    column = column.replace('.','')\n",
    "    column = column.replace(',','.')\n",
    "    return pd.to_numeric(column, errors='coerce')\n",
    "    \n",
    "\n",
    "recibos_list = []\n",
    "\n",
    "for file_name in glob('Recibos\\*.pdf'):\n",
    "    pdf = tabula.read_pdf(file_name, pages='all', multiple_tables=True, stream=True, pandas_options={'header': None},\n",
    "                         area=(147.0,417.316,344.87,812.004),\n",
    "                         columns=(449.3, 557.28, 595.4, 638.64, 697.68, 748.08, 811.44))\n",
    "    \n",
    "    df_partials = []\n",
    "    \n",
    "    for df_part in pdf:\n",
    "        df_part.columns = ['codigo','concepto','unidad','valor','haberes_s_ret','haberes_c_ret','descuentos']\n",
    "        df_part = df_part[df_part.codigo != 'Código'] # Elimina header de la página 1\n",
    "        df_partials.append(df_part)\n",
    "    \n",
    "    # Concatena las paginas del recibo y resetea el índice\n",
    "    df = pd.concat(df_partials)\n",
    "    df.reset_index(inplace=True, drop=True)\n",
    "    \n",
    "    # Extrae período del nombre del archivo y lo anexa al dataframe\n",
    "    df['periodo'] = re.search('(\\d{4}-\\d{2})', file_name).group(1) \n",
    "    \n",
    "\n",
    "    # Convierte tipo de datos para campos numéricos:\n",
    "    df['unidad'] = pd.to_numeric(df['unidad'].str.replace(',','.'), errors='coerce')\n",
    "    df['valor'] = pd.to_numeric(df['valor'].str.replace(',','.'), errors='coerce')\n",
    "    df['haberes_s_ret'] = df['haberes_s_ret'].apply(to_num)\n",
    "    df['haberes_c_ret'] = df['haberes_c_ret'].apply(to_num)\n",
    "    df['descuentos'] = df['descuentos'].apply(to_num)\n",
    "          \n",
    "    \n",
    "    # Elimina filas importadas con subtotales (recibos viejos un poco más cortos)\n",
    "    df = df[~df[['codigo','concepto']].isnull().all(1)]\n",
    "    \n",
    "    # Suma recibo completo a la lista\n",
    "    recibos_list.append(df)\n",
    "\n",
    "# Concatena todos los recibos\n",
    "df_recibos = pd.concat(recibos_list)\n",
    "\n",
    "#display(df_recibos)"
   ]
  },
  {
   "cell_type": "markdown",
   "metadata": {},
   "source": [
    "### Exporta DataFrame a CSV"
   ]
  },
  {
   "cell_type": "code",
   "execution_count": null,
   "metadata": {},
   "outputs": [],
   "source": [
    "df_recibos.to_csv('Recibos.csv', index=False, encoding='ANSI')"
   ]
  }
 ],
 "metadata": {
  "kernelspec": {
   "display_name": "Python 3",
   "language": "python",
   "name": "python3"
  },
  "language_info": {
   "codemirror_mode": {
    "name": "ipython",
    "version": 3
   },
   "file_extension": ".py",
   "mimetype": "text/x-python",
   "name": "python",
   "nbconvert_exporter": "python",
   "pygments_lexer": "ipython3",
   "version": "3.7.3"
  }
 },
 "nbformat": 4,
 "nbformat_minor": 2
}
